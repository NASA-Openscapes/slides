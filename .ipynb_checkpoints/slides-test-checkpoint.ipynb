{
 "cells": [
  {
   "cell_type": "raw",
   "id": "c7ccf067-07f0-425a-8c38-9e3eb430374a",
   "metadata": {},
   "source": [
    "---\n",
    "title: \"test presentation\"\n",
    "format: revealjs\n",
    "---"
   ]
  },
  {
   "cell_type": "markdown",
   "id": "8bef4671-1fa5-4d4a-9625-73415d77b08a",
   "metadata": {},
   "source": [
    "## Slide one"
   ]
  },
  {
   "cell_type": "markdown",
   "id": "c2044664-ed55-438b-9d43-1d44ad17fc7b",
   "metadata": {},
   "source": [
    "Create slide breaks with `##`"
   ]
  },
  {
   "cell_type": "markdown",
   "id": "a816da19-a911-4e7e-b77c-f5291de2ec62",
   "metadata": {},
   "source": [
    "## Slide two"
   ]
  },
  {
   "cell_type": "markdown",
   "id": "9b952398-2c54-459d-bd78-e1dac2081f1d",
   "metadata": {},
   "source": [
    "Echo code with `#|echo: true`"
   ]
  },
  {
   "cell_type": "code",
   "execution_count": 1,
   "id": "6cd530ab-6e32-45f1-873b-9fb12803a627",
   "metadata": {},
   "outputs": [
    {
     "data": {
      "text/plain": [
       "5"
      ]
     },
     "execution_count": 1,
     "metadata": {},
     "output_type": "execute_result"
    }
   ],
   "source": [
    "#| echo: true\n",
    "2+3"
   ]
  },
  {
   "cell_type": "code",
   "execution_count": null,
   "id": "9124a2e2-32f6-4741-a55b-d043763a0c63",
   "metadata": {},
   "outputs": [],
   "source": []
  }
 ],
 "metadata": {
  "kernelspec": {
   "display_name": "Python 3 (ipykernel)",
   "language": "python",
   "name": "python3"
  },
  "language_info": {
   "codemirror_mode": {
    "name": "ipython",
    "version": 3
   },
   "file_extension": ".py",
   "mimetype": "text/x-python",
   "name": "python",
   "nbconvert_exporter": "python",
   "pygments_lexer": "ipython3",
   "version": "3.9.7"
  }
 },
 "nbformat": 4,
 "nbformat_minor": 5
}
