(notebook) jovyan@jupyter-jules32:~/slides$ quarto preview slides-test.ipynb 
pandoc 
  to: revealjs
  output-file: slides-test.html
  standalone: true
  html-math-method:
    method: mathjax
    url: >-
      https://cdnjs.cloudflare.com/ajax/libs/mathjax/2.7.0/MathJax.js?config=TeX-AMS_HTML-full
  slide-level: 2
  incremental: true
  filters:
    - crossref
  
metadata
  link-citations: true
  width: 1050
  height: 700
  margin: 0.1
  center: false
  navigationMode: linear
  controlsLayout: edges
  controlsTutorial: false
  hash: true
  history: true
  hashOneBasedIndex: false
  fragmentInURL: false
  transition: none
  backgroundTransition: none
  pdfSeparateFragments: false
  title: test presentation
  author: our team
  
Output created: slides-test.html

Watching files for changes
ERROR: NotFound: No such file or directory (os error 2)
(notebook) jovyan@jupyter-jules32:~/slides$ git add --all 
(notebook) jovyan@jupyter-jules32:~/slides$ git commit -m "again, after remembering to save"
[gh-pages 94739d9] again, after remembering to save
 3 files changed, 33 insertions(+)
(notebook) jovyan@jupyter-jules32:~/slides$ git push
Enumerating objects: 9, done.
Counting objects: 100% (9/9), done.
Delta compression using up to 2 threads
Compressing objects: 100% (5/5), done.
Writing objects: 100% (5/5), 797 bytes | 79.00 KiB/s, done.
Total 5 (delta 2), reused 0 (delta 0)
remote: Resolving deltas: 100% (2/2), completed with 2 local objects.
To https://github.com/NASA-Openscapes/slides.git
   a4560a4..94739d9  gh-pages -> gh-pages
(notebook) jovyan@jupyter-jules32:~/slides$ quarto preview slides-test.ipynb 
pandoc 
  to: revealjs
  output-file: slides-test.html
  standalone: true
  html-math-method:
    method: mathjax
    url: >-
      https://cdnjs.cloudflare.com/ajax/libs/mathjax/2.7.0/MathJax.js?config=TeX-AMS_HTML-full
  slide-level: 2
  incremental: true
  filters:
    - crossref
  
metadata
  link-citations: true
  width: 1050
  height: 700
  margin: 0.1
  center: false
  navigationMode: linear
  controlsLayout: edges
  controlsTutorial: false
  hash: true
  history: true
  hashOneBasedIndex: false
  fragmentInURL: false
  transition: none
  backgroundTransition: none
  pdfSeparateFragments: false
  title: test presentation
  author: our team
  
Output created: slides-test.html

Watching files for changes
ERROR: NotFound: No such file or directory (os error 2)
