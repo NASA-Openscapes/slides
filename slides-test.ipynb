{
 "cells": [
  {
   "cell_type": "raw",
   "id": "c7ccf067-07f0-425a-8c38-9e3eb430374a",
   "metadata": {},
   "source": [
    "---\n",
    "title: \"test presentation\"\n",
    "author: \"our team\"\n",
    "format:\n",
    "  revealjs:\n",
    "    incremental: true\n",
    "---"
   ]
  },
  {
   "cell_type": "markdown",
   "id": "8bef4671-1fa5-4d4a-9625-73415d77b08a",
   "metadata": {},
   "source": [
    "## Slide one"
   ]
  },
  {
   "cell_type": "markdown",
   "id": "c2044664-ed55-438b-9d43-1d44ad17fc7b",
   "metadata": {},
   "source": [
    "Create slide breaks with `##`"
   ]
  },
  {
   "cell_type": "markdown",
   "id": "a816da19-a911-4e7e-b77c-f5291de2ec62",
   "metadata": {},
   "source": [
    "## Slide two"
   ]
  },
  {
   "cell_type": "markdown",
   "id": "9b952398-2c54-459d-bd78-e1dac2081f1d",
   "metadata": {},
   "source": [
    "Echo code with `#|echo: true`"
   ]
  },
  {
   "cell_type": "code",
   "execution_count": 1,
   "id": "6cd530ab-6e32-45f1-873b-9fb12803a627",
   "metadata": {},
   "outputs": [
    {
     "data": {
      "text/plain": [
       "5"
      ]
     },
     "execution_count": 1,
     "metadata": {},
     "output_type": "execute_result"
    }
   ],
   "source": [
    "#| echo: true\n",
    "2+3"
   ]
  },
  {
   "cell_type": "markdown",
   "id": "6049d57e-9887-422a-a469-76d959d5f0b3",
   "metadata": {},
   "source": [
    "## Slide three"
   ]
  },
  {
   "cell_type": "markdown",
   "id": "2d4ac2e6-1b12-46b1-8b96-54d09aa4c329",
   "metadata": {},
   "source": [
    "Add incremental cells with `:::{.incremental}` and `:::` fences:"
   ]
  },
  {
   "cell_type": "markdown",
   "id": "b4fb3fe1-4664-4379-bdf6-2992c970aae4",
   "metadata": {},
   "source": [
    "::: {.incremental}\n",
    "\n",
    "- Eat spaghetti\n",
    "- Drink wine\n",
    "\n",
    ":::"
   ]
  },
  {
   "cell_type": "markdown",
   "id": "303a305e-9e94-4cf2-ad46-752a677143a0",
   "metadata": {},
   "source": [
    "## Slide four"
   ]
  },
  {
   "cell_type": "markdown",
   "id": "0cb7d413-b404-4deb-a659-123844382d5e",
   "metadata": {},
   "source": [
    "more text here"
   ]
  }
 ],
 "metadata": {
  "kernelspec": {
   "display_name": "Python 3 (ipykernel)",
   "language": "python",
   "name": "python3"
  },
  "language_info": {
   "codemirror_mode": {
    "name": "ipython",
    "version": 3
   },
   "file_extension": ".py",
   "mimetype": "text/x-python",
   "name": "python",
   "nbconvert_exporter": "python",
   "pygments_lexer": "ipython3",
   "version": "3.9.7"
  }
 },
 "nbformat": 4,
 "nbformat_minor": 5
}
